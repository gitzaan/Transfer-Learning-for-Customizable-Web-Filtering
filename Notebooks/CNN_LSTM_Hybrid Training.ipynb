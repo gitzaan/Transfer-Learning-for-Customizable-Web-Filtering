{
 "cells": [
  {
   "cell_type": "markdown",
   "metadata": {
    "id": "QaQlWsZcWrcm"
   },
   "source": [
    "# **Setting Up Environment**"
   ]
  },
  {
   "cell_type": "code",
   "execution_count": 3,
   "metadata": {
    "colab": {
     "base_uri": "https://localhost:8080/"
    },
    "id": "7cvA08pVWyUu",
    "outputId": "ec57ddc5-726c-421a-dc15-15e287bbd956"
   },
   "outputs": [
    {
     "name": "stdout",
     "output_type": "stream",
     "text": [
      "Drive already mounted at /content/drive; to attempt to forcibly remount, call drive.mount(\"/content/drive\", force_remount=True).\n",
      "Requirement already satisfied: python-whois in /usr/local/lib/python3.10/dist-packages (0.8.0)\n",
      "Requirement already satisfied: future in /usr/local/lib/python3.10/dist-packages (from python-whois) (0.18.3)\n",
      "Requirement already satisfied: pyquery in /usr/local/lib/python3.10/dist-packages (2.0.0)\n",
      "Requirement already satisfied: lxml>=2.1 in /usr/local/lib/python3.10/dist-packages (from pyquery) (4.9.3)\n",
      "Requirement already satisfied: cssselect>=1.2.0 in /usr/local/lib/python3.10/dist-packages (from pyquery) (1.2.0)\n"
     ]
    }
   ],
   "source": [
    "import pandas as pd\n",
    "import numpy as np\n",
    "import pickle\n",
    "from sklearn.preprocessing import LabelEncoder, StandardScaler\n",
    "from sklearn.model_selection import train_test_split\n",
    "from sklearn.metrics import accuracy_score, classification_report\n",
    "from tensorflow.keras.models import Sequential\n",
    "from tensorflow.keras.layers import Conv1D, MaxPooling1D, GlobalMaxPooling1D, Dense, Dropout, LSTM, BatchNormalization\n",
    "from tensorflow.keras.utils import to_categorical\n",
    "from tensorflow.keras.optimizers import Adam\n",
    "from tensorflow.keras.callbacks import EarlyStopping, ModelCheckpoint, LearningRateScheduler\n",
    "import matplotlib.pyplot as plt\n",
    "from google.colab import drive\n",
    "drive.mount('/content/drive')\n",
    "from tensorflow.keras.models import load_model\n",
    "!pip install python-whois\n",
    "!pip install pyquery\n",
    "from UrlFeaturizer import UrlFeaturizer"
   ]
  },
  {
   "cell_type": "markdown",
   "metadata": {
    "id": "sYsEgthtXCax"
   },
   "source": [
    " Load the Feature Extracted Dataset"
   ]
  },
  {
   "cell_type": "code",
   "execution_count": 4,
   "metadata": {
    "id": "UONIqagsXB5T"
   },
   "outputs": [],
   "source": [
    "data = pd.read_csv('/content/drive/MyDrive/CN/feature.csv')"
   ]
  },
  {
   "cell_type": "markdown",
   "metadata": {
    "id": "FUTnsQfNWjTT"
   },
   "source": [
    "# **Preprocessing**"
   ]
  },
  {
   "cell_type": "code",
   "execution_count": 5,
   "metadata": {
    "id": "thhFaoucWe0q"
   },
   "outputs": [],
   "source": [
    "class_mapping = {\n",
    "    \"Benign_list_big_final\": \"Benign\",\n",
    "    \"Malware_dataset\": \"Malware\",\n",
    "    \"phishing_dataset\": \"Phishing\",\n",
    "    \"spam_dataset\": \"Spam\"\n",
    "}\n",
    "data['File'] = data['File'].map(class_mapping)\n",
    "data.drop(columns=['Unnamed: 0'], inplace=True)\n",
    "data.replace(True,1,inplace = True)\n",
    "data.replace(False,0,inplace = True)"
   ]
  },
  {
   "cell_type": "markdown",
   "metadata": {
    "id": "H0XtZJgDXNW_"
   },
   "source": [
    "Standardization"
   ]
  },
  {
   "cell_type": "code",
   "execution_count": 6,
   "metadata": {
    "colab": {
     "base_uri": "https://localhost:8080/"
    },
    "id": "PEYBXtXWXOsG",
    "outputId": "4f0923d2-b4c9-4a8d-dccb-9a82be9650e9"
   },
   "outputs": [
    {
     "name": "stderr",
     "output_type": "stream",
     "text": [
      "<ipython-input-6-be112450a885>:3: DeprecationWarning: In a future version, `df.iloc[:, i] = newvals` will attempt to set the values inplace instead of always setting a new array. To retain the old behavior, use either `df[df.columns[i]] = newvals` or, if columns are non-unique, `df.isetitem(i, newvals)`\n",
      "  data.iloc[:, 1:] = scaler.fit_transform(data.iloc[:, 1:])\n"
     ]
    }
   ],
   "source": [
    "# Standardize the features\n",
    "scaler = StandardScaler()\n",
    "data.iloc[:, 1:] = scaler.fit_transform(data.iloc[:, 1:])\n",
    "\n",
    "# Save the scaler object\n",
    "pickle.dump(scaler, open('scaler.sav', 'wb'))"
   ]
  },
  {
   "cell_type": "markdown",
   "metadata": {
    "id": "K5haUJYcXQiO"
   },
   "source": [
    "Encoding Target Variable"
   ]
  },
  {
   "cell_type": "code",
   "execution_count": 7,
   "metadata": {
    "id": "MGk9iUnYXSyZ"
   },
   "outputs": [],
   "source": [
    "# Encoding the target variable\n",
    "encoder = LabelEncoder()\n",
    "y = encoder.fit_transform(data[\"File\"])\n",
    "# Save the encoder object\n",
    "np.save('lblenc.npy', encoder.classes_)\n",
    "\n",
    "#Dropping the target column\n",
    "X = data.drop(columns=[\"File\"])"
   ]
  },
  {
   "cell_type": "markdown",
   "metadata": {
    "id": "ky6E8ij1XU9Z"
   },
   "source": [
    "Train Test Split"
   ]
  },
  {
   "cell_type": "code",
   "execution_count": 8,
   "metadata": {
    "id": "gwhjCylZXWJ9"
   },
   "outputs": [],
   "source": [
    "X_train, X_test, y_train, y_test = train_test_split(X, y, test_size=0.2, random_state=42)"
   ]
  },
  {
   "cell_type": "markdown",
   "metadata": {
    "id": "PZqrnR_KXoeR"
   },
   "source": [
    "Reshape Inputs for CNN"
   ]
  },
  {
   "cell_type": "code",
   "execution_count": 9,
   "metadata": {
    "id": "Besy5uwJXsCo"
   },
   "outputs": [],
   "source": [
    "# Reshape inputs for CNN\n",
    "X_train_cnn = X_train.values.reshape(X_train.shape[0], X_train.shape[1], 1)\n",
    "X_test_cnn = X_test.values.reshape(X_test.shape[0], X_test.shape[1], 1)"
   ]
  },
  {
   "cell_type": "markdown",
   "metadata": {
    "id": "YVkM-FPBXX33"
   },
   "source": [
    "# **Model Architecture**"
   ]
  },
  {
   "cell_type": "code",
   "execution_count": 10,
   "metadata": {
    "id": "k4GMNGd1Xa_o"
   },
   "outputs": [],
   "source": [
    "# Model Architecture\n",
    "model = Sequential()\n",
    "model.add(Conv1D(filters=128, kernel_size=3, activation='relu', input_shape=(X_train.shape[1], 1), padding='same'))\n",
    "model.add(BatchNormalization())\n",
    "model.add(Conv1D(filters=128, kernel_size=3, activation='relu', padding='same'))\n",
    "model.add(BatchNormalization())\n",
    "model.add(MaxPooling1D(pool_size=2))\n",
    "model.add(Dropout(0.25))  # Adjusted dropout rate\n",
    "model.add(Conv1D(filters=64, kernel_size=3, activation='relu', padding='same'))\n",
    "model.add(BatchNormalization())\n",
    "model.add(Conv1D(filters=64, kernel_size=3, activation='relu', padding='same'))\n",
    "model.add(BatchNormalization())\n",
    "model.add(MaxPooling1D(pool_size=2))\n",
    "model.add(Dropout(0.25))  # Adjusted dropout rate\n",
    "model.add(Conv1D(filters=32, kernel_size=3, activation='relu', padding='same'))\n",
    "model.add(BatchNormalization())\n",
    "model.add(Conv1D(filters=32, kernel_size=3, activation='relu', padding='same'))\n",
    "model.add(BatchNormalization())\n",
    "model.add(MaxPooling1D(pool_size=2))\n",
    "model.add(Dropout(0.25))  # Adjusted dropout rate\n",
    "model.add(LSTM(100))\n",
    "model.add(Dense(64, activation='relu'))\n",
    "model.add(Dense(np.unique(y).shape[0], activation='softmax'))  # Adjusted number of units\n",
    "\n",
    "# Compile the model with an Adam optimizer\n",
    "model.compile(optimizer=Adam(learning_rate=0.001), loss='sparse_categorical_crossentropy', metrics=['accuracy'])\n"
   ]
  },
  {
   "cell_type": "markdown",
   "metadata": {
    "id": "_i_Ny_-8X_9M"
   },
   "source": [
    "Model Training"
   ]
  },
  {
   "cell_type": "code",
   "execution_count": 11,
   "metadata": {
    "colab": {
     "base_uri": "https://localhost:8080/"
    },
    "id": "YA_PifjAYA-H",
    "outputId": "885e5520-544a-4012-a3c6-0cfb7072c01b"
   },
   "outputs": [
    {
     "name": "stdout",
     "output_type": "stream",
     "text": [
      "Epoch 1/50\n",
      "1091/1091 [==============================] - 52s 42ms/step - loss: 0.8917 - accuracy: 0.6460 - val_loss: 0.6271 - val_accuracy: 0.7535 - lr: 9.0000e-04\n",
      "Epoch 2/50\n",
      "   3/1091 [..............................] - ETA: 28s - loss: 0.7590 - accuracy: 0.6979"
     ]
    },
    {
     "name": "stderr",
     "output_type": "stream",
     "text": [
      "/usr/local/lib/python3.10/dist-packages/keras/src/engine/training.py:3079: UserWarning: You are saving your model as an HDF5 file via `model.save()`. This file format is considered legacy. We recommend using instead the native Keras format, e.g. `model.save('my_model.keras')`.\n",
      "  saving_api.save_model(\n"
     ]
    },
    {
     "name": "stdout",
     "output_type": "stream",
     "text": [
      "1091/1091 [==============================] - 32s 29ms/step - loss: 0.6548 - accuracy: 0.7451 - val_loss: 0.5535 - val_accuracy: 0.7895 - lr: 9.0000e-04\n",
      "Epoch 3/50\n",
      "1091/1091 [==============================] - 29s 27ms/step - loss: 0.5914 - accuracy: 0.7716 - val_loss: 0.5146 - val_accuracy: 0.8063 - lr: 9.0000e-04\n",
      "Epoch 4/50\n",
      "1091/1091 [==============================] - 29s 27ms/step - loss: 0.5598 - accuracy: 0.7820 - val_loss: 0.4946 - val_accuracy: 0.8111 - lr: 9.0000e-04\n",
      "Epoch 5/50\n",
      "1091/1091 [==============================] - 29s 27ms/step - loss: 0.5332 - accuracy: 0.7966 - val_loss: 0.4860 - val_accuracy: 0.8173 - lr: 9.0000e-04\n",
      "Epoch 6/50\n",
      "1091/1091 [==============================] - 28s 26ms/step - loss: 0.5123 - accuracy: 0.8041 - val_loss: 0.4703 - val_accuracy: 0.8212 - lr: 9.0000e-04\n",
      "Epoch 7/50\n",
      "1091/1091 [==============================] - 29s 27ms/step - loss: 0.4994 - accuracy: 0.8076 - val_loss: 0.4636 - val_accuracy: 0.8209 - lr: 9.0000e-04\n",
      "Epoch 8/50\n",
      "1091/1091 [==============================] - 30s 27ms/step - loss: 0.4843 - accuracy: 0.8112 - val_loss: 0.4602 - val_accuracy: 0.8254 - lr: 9.0000e-04\n",
      "Epoch 9/50\n",
      "1091/1091 [==============================] - 29s 27ms/step - loss: 0.4718 - accuracy: 0.8174 - val_loss: 0.4476 - val_accuracy: 0.8242 - lr: 9.0000e-04\n",
      "Epoch 10/50\n",
      "1091/1091 [==============================] - 31s 29ms/step - loss: 0.4602 - accuracy: 0.8221 - val_loss: 0.4349 - val_accuracy: 0.8332 - lr: 9.0000e-04\n",
      "Epoch 11/50\n",
      "1091/1091 [==============================] - 29s 26ms/step - loss: 0.4523 - accuracy: 0.8250 - val_loss: 0.4190 - val_accuracy: 0.8398 - lr: 8.1000e-04\n",
      "Epoch 12/50\n",
      "1091/1091 [==============================] - 33s 31ms/step - loss: 0.4406 - accuracy: 0.8282 - val_loss: 0.4266 - val_accuracy: 0.8332 - lr: 8.1000e-04\n",
      "Epoch 13/50\n",
      "1091/1091 [==============================] - 30s 27ms/step - loss: 0.4364 - accuracy: 0.8297 - val_loss: 0.4090 - val_accuracy: 0.8421 - lr: 8.1000e-04\n",
      "Epoch 14/50\n",
      "1091/1091 [==============================] - 30s 27ms/step - loss: 0.4329 - accuracy: 0.8333 - val_loss: 0.4140 - val_accuracy: 0.8410 - lr: 8.1000e-04\n",
      "Epoch 15/50\n",
      "1091/1091 [==============================] - 28s 26ms/step - loss: 0.4258 - accuracy: 0.8356 - val_loss: 0.4043 - val_accuracy: 0.8464 - lr: 8.1000e-04\n",
      "Epoch 16/50\n",
      "1091/1091 [==============================] - 29s 27ms/step - loss: 0.4207 - accuracy: 0.8365 - val_loss: 0.4016 - val_accuracy: 0.8458 - lr: 8.1000e-04\n",
      "Epoch 17/50\n",
      "1091/1091 [==============================] - 29s 27ms/step - loss: 0.4139 - accuracy: 0.8391 - val_loss: 0.3945 - val_accuracy: 0.8491 - lr: 8.1000e-04\n",
      "Epoch 18/50\n",
      "1091/1091 [==============================] - 30s 27ms/step - loss: 0.4128 - accuracy: 0.8392 - val_loss: 0.3958 - val_accuracy: 0.8508 - lr: 8.1000e-04\n",
      "Epoch 19/50\n",
      "1091/1091 [==============================] - 29s 27ms/step - loss: 0.4058 - accuracy: 0.8423 - val_loss: 0.3995 - val_accuracy: 0.8472 - lr: 8.1000e-04\n",
      "Epoch 20/50\n",
      "1091/1091 [==============================] - 29s 27ms/step - loss: 0.4039 - accuracy: 0.8434 - val_loss: 0.3895 - val_accuracy: 0.8558 - lr: 8.1000e-04\n",
      "Epoch 21/50\n",
      "1091/1091 [==============================] - 29s 27ms/step - loss: 0.3974 - accuracy: 0.8446 - val_loss: 0.3788 - val_accuracy: 0.8527 - lr: 7.2900e-04\n",
      "Epoch 22/50\n",
      "1091/1091 [==============================] - 29s 26ms/step - loss: 0.3927 - accuracy: 0.8474 - val_loss: 0.3858 - val_accuracy: 0.8485 - lr: 7.2900e-04\n",
      "Epoch 23/50\n",
      "1091/1091 [==============================] - 29s 27ms/step - loss: 0.3899 - accuracy: 0.8479 - val_loss: 0.3821 - val_accuracy: 0.8552 - lr: 7.2900e-04\n",
      "Epoch 24/50\n",
      "1091/1091 [==============================] - 29s 27ms/step - loss: 0.3870 - accuracy: 0.8488 - val_loss: 0.3914 - val_accuracy: 0.8471 - lr: 7.2900e-04\n",
      "Epoch 25/50\n",
      "1091/1091 [==============================] - 29s 27ms/step - loss: 0.3863 - accuracy: 0.8488 - val_loss: 0.3759 - val_accuracy: 0.8548 - lr: 7.2900e-04\n",
      "Epoch 26/50\n",
      "1091/1091 [==============================] - 29s 27ms/step - loss: 0.3788 - accuracy: 0.8523 - val_loss: 0.3774 - val_accuracy: 0.8550 - lr: 7.2900e-04\n",
      "Epoch 27/50\n",
      "1091/1091 [==============================] - 31s 28ms/step - loss: 0.3791 - accuracy: 0.8515 - val_loss: 0.3763 - val_accuracy: 0.8544 - lr: 7.2900e-04\n",
      "Epoch 28/50\n",
      "1091/1091 [==============================] - 28s 26ms/step - loss: 0.3759 - accuracy: 0.8528 - val_loss: 0.3721 - val_accuracy: 0.8526 - lr: 7.2900e-04\n",
      "Epoch 29/50\n",
      "1091/1091 [==============================] - 29s 27ms/step - loss: 0.3733 - accuracy: 0.8542 - val_loss: 0.3676 - val_accuracy: 0.8587 - lr: 7.2900e-04\n",
      "Epoch 30/50\n",
      "1091/1091 [==============================] - 28s 26ms/step - loss: 0.3736 - accuracy: 0.8548 - val_loss: 0.3674 - val_accuracy: 0.8594 - lr: 7.2900e-04\n",
      "Epoch 31/50\n",
      "1091/1091 [==============================] - 28s 26ms/step - loss: 0.3703 - accuracy: 0.8551 - val_loss: 0.3579 - val_accuracy: 0.8659 - lr: 6.5610e-04\n",
      "Epoch 32/50\n",
      "1091/1091 [==============================] - 28s 26ms/step - loss: 0.3603 - accuracy: 0.8582 - val_loss: 0.3588 - val_accuracy: 0.8668 - lr: 6.5610e-04\n",
      "Epoch 33/50\n",
      "1091/1091 [==============================] - 28s 26ms/step - loss: 0.3643 - accuracy: 0.8582 - val_loss: 0.3598 - val_accuracy: 0.8651 - lr: 6.5610e-04\n",
      "Epoch 34/50\n",
      "1091/1091 [==============================] - 29s 26ms/step - loss: 0.3618 - accuracy: 0.8573 - val_loss: 0.3613 - val_accuracy: 0.8614 - lr: 6.5610e-04\n",
      "Epoch 35/50\n",
      "1091/1091 [==============================] - 28s 26ms/step - loss: 0.3577 - accuracy: 0.8611 - val_loss: 0.3589 - val_accuracy: 0.8613 - lr: 6.5610e-04\n",
      "Epoch 36/50\n",
      "1091/1091 [==============================] - 30s 28ms/step - loss: 0.3571 - accuracy: 0.8606 - val_loss: 0.3571 - val_accuracy: 0.8664 - lr: 6.5610e-04\n",
      "Epoch 37/50\n",
      "1091/1091 [==============================] - 28s 26ms/step - loss: 0.3547 - accuracy: 0.8615 - val_loss: 0.3558 - val_accuracy: 0.8641 - lr: 6.5610e-04\n",
      "Epoch 38/50\n",
      "1091/1091 [==============================] - 28s 26ms/step - loss: 0.3577 - accuracy: 0.8583 - val_loss: 0.3495 - val_accuracy: 0.8656 - lr: 6.5610e-04\n",
      "Epoch 39/50\n",
      "1091/1091 [==============================] - 29s 26ms/step - loss: 0.3511 - accuracy: 0.8628 - val_loss: 0.3536 - val_accuracy: 0.8665 - lr: 6.5610e-04\n",
      "Epoch 40/50\n",
      "1091/1091 [==============================] - 27s 25ms/step - loss: 0.3516 - accuracy: 0.8610 - val_loss: 0.3500 - val_accuracy: 0.8685 - lr: 6.5610e-04\n",
      "Epoch 41/50\n",
      "1091/1091 [==============================] - 29s 27ms/step - loss: 0.3470 - accuracy: 0.8628 - val_loss: 0.3544 - val_accuracy: 0.8661 - lr: 5.9049e-04\n",
      "Epoch 42/50\n",
      "1091/1091 [==============================] - 29s 27ms/step - loss: 0.3470 - accuracy: 0.8636 - val_loss: 0.3663 - val_accuracy: 0.8577 - lr: 5.9049e-04\n",
      "Epoch 43/50\n",
      "1091/1091 [==============================] - 29s 27ms/step - loss: 0.3412 - accuracy: 0.8664 - val_loss: 0.3581 - val_accuracy: 0.8650 - lr: 5.9049e-04\n",
      "Epoch 44/50\n",
      "1091/1091 [==============================] - 29s 27ms/step - loss: 0.3430 - accuracy: 0.8650 - val_loss: 0.3510 - val_accuracy: 0.8658 - lr: 5.9049e-04\n",
      "Epoch 45/50\n",
      "1091/1091 [==============================] - 30s 28ms/step - loss: 0.3406 - accuracy: 0.8663 - val_loss: 0.3538 - val_accuracy: 0.8643 - lr: 5.9049e-04\n",
      "Epoch 46/50\n",
      "1091/1091 [==============================] - 29s 27ms/step - loss: 0.3391 - accuracy: 0.8669 - val_loss: 0.3466 - val_accuracy: 0.8670 - lr: 5.9049e-04\n",
      "Epoch 47/50\n",
      "1091/1091 [==============================] - 28s 26ms/step - loss: 0.3406 - accuracy: 0.8646 - val_loss: 0.3631 - val_accuracy: 0.8620 - lr: 5.9049e-04\n",
      "Epoch 48/50\n",
      "1091/1091 [==============================] - 29s 27ms/step - loss: 0.3349 - accuracy: 0.8695 - val_loss: 0.3530 - val_accuracy: 0.8660 - lr: 5.9049e-04\n",
      "Epoch 49/50\n",
      "1091/1091 [==============================] - 30s 27ms/step - loss: 0.3382 - accuracy: 0.8666 - val_loss: 0.3497 - val_accuracy: 0.8692 - lr: 5.9049e-04\n",
      "Epoch 50/50\n",
      "1091/1091 [==============================] - 28s 26ms/step - loss: 0.3370 - accuracy: 0.8679 - val_loss: 0.3523 - val_accuracy: 0.8677 - lr: 5.9049e-04\n"
     ]
    }
   ],
   "source": [
    "# Define callbacks\n",
    "early_stopping = EarlyStopping(monitor='val_loss', patience=10, restore_best_weights=True)\n",
    "model_checkpoint = ModelCheckpoint('best_model.h5', monitor='val_accuracy', mode='max', save_best_only=True)\n",
    "reduce_lr = LearningRateScheduler(lambda epoch, lr: lr * 0.9 if epoch % 10 == 0 else lr)\n",
    "\n",
    "\n",
    "# Fit the model to the training data\n",
    "history = model.fit(X_train_cnn, y_train, epochs=50, validation_split=0.2, verbose=1, callbacks=[early_stopping, model_checkpoint, reduce_lr])\n",
    "model.save('best_model.h5')"
   ]
  },
  {
   "cell_type": "markdown",
   "metadata": {
    "id": "h7h9AHusYEP9"
   },
   "source": [
    "Training History"
   ]
  },
  {
   "cell_type": "code",
   "execution_count": 12,
   "metadata": {
    "colab": {
     "base_uri": "https://localhost:8080/",
     "height": 410
    },
    "id": "LhI5gHCOYGSt",
    "outputId": "99310a4a-5856-447f-a461-43e0da29fc01"
   },
   "outputs": [
    {
     "data": {
      "image/png": "[encoded data removed]",
      "text/plain": [
       "<Figure size 1200x400 with 2 Axes>"
      ]
     },
     "metadata": {},
     "output_type": "display_data"
    }
   ],
   "source": [
    "# Plot training & validation accuracy values\n",
    "plt.figure(figsize=(12, 4))\n",
    "\n",
    "plt.subplot(1, 2, 1)\n",
    "plt.plot(history.history['accuracy'])\n",
    "plt.plot(history.history['val_accuracy'])\n",
    "plt.title('Model accuracy')\n",
    "plt.ylabel('Accuracy')\n",
    "plt.xlabel('Epoch')\n",
    "plt.legend(['Train', 'Validation'], loc='upper left')\n",
    "\n",
    "# Plot training & validation loss values\n",
    "plt.subplot(1, 2, 2)\n",
    "plt.plot(history.history['loss'])\n",
    "plt.plot(history.history['val_loss'])\n",
    "plt.title('Model loss')\n",
    "plt.ylabel('Loss')\n",
    "plt.xlabel('Epoch')\n",
    "plt.legend(['Train', 'Validation'], loc='upper left')\n",
    "\n",
    "plt.show()\n"
   ]
  },
  {
   "cell_type": "markdown",
   "metadata": {
    "id": "syC0Gm48YKab"
   },
   "source": [
    "# **Model Evaluation**"
   ]
  },
  {
   "cell_type": "code",
   "execution_count": 13,
   "metadata": {
    "colab": {
     "base_uri": "https://localhost:8080/"
    },
    "id": "DjA6Cj5MYN16",
    "outputId": "a0f57abf-f856-4ed4-848b-aaca15406f6c"
   },
   "outputs": [
    {
     "name": "stdout",
     "output_type": "stream",
     "text": [
      "341/341 [==============================] - 3s 6ms/step\n",
      "Accuracy: 0.88\n",
      "Classification Report:\n",
      "              precision    recall  f1-score   support\n",
      "\n",
      "      Benign       0.95      0.96      0.96      2167\n",
      "     Malware       0.88      0.93      0.91      2273\n",
      "    Phishing       0.79      0.80      0.79      2013\n",
      "        Spam       0.91      0.92      0.91      2456\n",
      "  Defacement       0.84      0.75      0.79      1998\n",
      "\n",
      "    accuracy                           0.88     10907\n",
      "   macro avg       0.87      0.87      0.87     10907\n",
      "weighted avg       0.88      0.88      0.88     10907\n",
      "\n"
     ]
    }
   ],
   "source": [
    "# Perform predictions on the testing set\n",
    "y_pred = model.predict(X_test_cnn)\n",
    "\n",
    "# Convert predictions to class labels\n",
    "y_pred_labels = np.argmax(y_pred, axis=1)\n",
    "\n",
    "# Calculate accuracy\n",
    "accuracy = accuracy_score(y_test, y_pred_labels)\n",
    "print(f\"Accuracy: {accuracy:.2f}\")\n",
    "\n",
    "# Generate a classification report\n",
    "class_names = [\"Benign\", \"Malware\", \"Phishing\", \"Spam\", \"Defacement\"]\n",
    "\n",
    "classification_rep = classification_report(y_test, y_pred_labels, target_names=class_names)\n",
    "print(\"Classification Report:\")\n",
    "print(classification_rep)\n"
   ]
  },
  {
   "cell_type": "markdown",
   "metadata": {
    "id": "WoO3bFp4YaCZ"
   },
   "source": [
    "Making Predictions\n"
   ]
  },
  {
   "cell_type": "code",
   "execution_count": 14,
   "metadata": {
    "colab": {
     "base_uri": "https://localhost:8080/"
    },
    "id": "lAA0LmFkYmoS",
    "outputId": "cc6ee888-ec69-404c-97ec-608039f70ee9"
   },
   "outputs": [
    {
     "name": "stderr",
     "output_type": "stream",
     "text": [
      "/usr/local/lib/python3.10/dist-packages/sklearn/base.py:439: UserWarning: X does not have valid feature names, but StandardScaler was fitted with feature names\n",
      "  warnings.warn(\n"
     ]
    },
    {
     "name": "stdout",
     "output_type": "stream",
     "text": [
      "1/1 [==============================] - 1s 624ms/step\n",
      "Spam\n"
     ]
    }
   ],
   "source": [
    "# Load the LabelEncoder and StandardScaler\n",
    "encoder = LabelEncoder()\n",
    "encoder.classes_ = np.load('lblenc.npy', allow_pickle=True)\n",
    "scaler = pickle.load(open('scaler.sav', 'rb'))\n",
    "\n",
    "# Load the model\n",
    "model = load_model(\"best_model.h5\")\n",
    "\n",
    "# The URL to predict\n",
    "url = 'http://astore.amazon.co.uk/allezvinsfrenchr/detail/1904010202/026-8324244-9330038'\n",
    "\n",
    "# Featurize the URL\n",
    "url_featurizer = UrlFeaturizer(url)\n",
    "features = url_featurizer.run()\n",
    "\n",
    "# The order of the features\n",
    "order = ['bodyLength', 'bscr', 'dse', 'dsr', 'entropy', 'hasHttp', 'hasHttps',\n",
    "       'has_ip', 'numDigits', 'numImages', 'numLinks', 'numParams',\n",
    "       'numTitles', 'num_%20', 'num_@', 'sbr', 'scriptLength', 'specialChars',\n",
    "       'sscr', 'urlIsLive', 'urlLength']\n",
    "\n",
    "# Prepare the features for prediction\n",
    "test = [features[i] for i in order]\n",
    "test = pd.DataFrame(test).replace(True,1).replace(False,0).to_numpy().reshape(1,-1)\n",
    "\n",
    "# Standardize the features\n",
    "test = scaler.transform(test)\n",
    "\n",
    "# Reshape the input data to fit the model input shape\n",
    "test = test.reshape(test.shape[0], test.shape[1], 1)\n",
    "\n",
    "# Make the prediction\n",
    "predicted = np.argmax(model.predict(test), axis=1)\n",
    "\n",
    "# Convert the numerical prediction to class label\n",
    "print(encoder.inverse_transform(predicted)[0])"
   ]
  }
 ],
 "metadata": {
  "colab": {
   "provenance": []
  },
  "kernelspec": {
   "display_name": "Python 3 (ipykernel)",
   "language": "python",
   "name": "python3"
  },
  "language_info": {
   "codemirror_mode": {
    "name": "ipython",
    "version": 3
   },
   "file_extension": ".py",
   "mimetype": "text/x-python",
   "name": "python",
   "nbconvert_exporter": "python",
   "pygments_lexer": "ipython3",
   "version": "3.11.5"
  }
 },
 "nbformat": 4,
 "nbformat_minor": 1
}
